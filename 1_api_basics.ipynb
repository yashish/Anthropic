{
 "cells": [
  {
   "cell_type": "code",
   "execution_count": null,
   "metadata": {},
   "outputs": [],
   "source": [
    "import boto3"
   ]
  },
  {
   "cell_type": "code",
   "execution_count": 1,
   "metadata": {},
   "outputs": [],
   "source": [
    "def get_model_response(messages):\n",
    "    bedrock_client = boto3.client(service_name='bedrock-runtime', region_name='us-east-1')\n",
    "    model_id ='anthropic.claude-3-5-sonnet-20241022-v2:0'\n",
    "\n",
    "    # send the messages to the model\n",
    "    response = bedrock_client.converse(\n",
    "        modelid=model_id,\n",
    "        messages=messages\n",
    "    )\n",
    "\n",
    "    return response[\"output\"][\"message\"][\"content\"][0][\"text\"]"
   ]
  },
  {
   "cell_type": "code",
   "execution_count": 2,
   "metadata": {},
   "outputs": [
    {
     "ename": "NameError",
     "evalue": "name 'boto3' is not defined",
     "output_type": "error",
     "traceback": [
      "\u001b[0;31m---------------------------------------------------------------------------\u001b[0m",
      "\u001b[0;31mNameError\u001b[0m                                 Traceback (most recent call last)",
      "Cell \u001b[0;32mIn[2], line 6\u001b[0m\n\u001b[1;32m      1\u001b[0m messages \u001b[38;5;241m=\u001b[39m [{\n\u001b[1;32m      2\u001b[0m     \u001b[38;5;124m\"\u001b[39m\u001b[38;5;124mrole\u001b[39m\u001b[38;5;124m\"\u001b[39m: \u001b[38;5;124m\"\u001b[39m\u001b[38;5;124muser\u001b[39m\u001b[38;5;124m\"\u001b[39m,\n\u001b[1;32m      3\u001b[0m     \u001b[38;5;124m\"\u001b[39m\u001b[38;5;124mcontent\u001b[39m\u001b[38;5;124m\"\u001b[39m: [{\u001b[38;5;124m\"\u001b[39m\u001b[38;5;124mtext\u001b[39m\u001b[38;5;124m\"\u001b[39m: \u001b[38;5;124m\"\u001b[39m\u001b[38;5;124mWrite a sonnet about the beauty of nature.\u001b[39m\u001b[38;5;124m\"\u001b[39m}]\n\u001b[1;32m      4\u001b[0m }]\n\u001b[0;32m----> 6\u001b[0m \u001b[43mget_model_response\u001b[49m\u001b[43m(\u001b[49m\u001b[43mmessages\u001b[49m\u001b[43m)\u001b[49m\n",
      "Cell \u001b[0;32mIn[1], line 2\u001b[0m, in \u001b[0;36mget_model_response\u001b[0;34m(messages)\u001b[0m\n\u001b[1;32m      1\u001b[0m \u001b[38;5;28;01mdef\u001b[39;00m \u001b[38;5;21mget_model_response\u001b[39m(messages):\n\u001b[0;32m----> 2\u001b[0m     bedrock_client \u001b[38;5;241m=\u001b[39m \u001b[43mboto3\u001b[49m\u001b[38;5;241m.\u001b[39mclient(service_name\u001b[38;5;241m=\u001b[39m\u001b[38;5;124m'\u001b[39m\u001b[38;5;124mbedrock-runtime\u001b[39m\u001b[38;5;124m'\u001b[39m, region_name\u001b[38;5;241m=\u001b[39m\u001b[38;5;124m'\u001b[39m\u001b[38;5;124mus-east-1\u001b[39m\u001b[38;5;124m'\u001b[39m)\n\u001b[1;32m      3\u001b[0m     model_id \u001b[38;5;241m=\u001b[39m\u001b[38;5;124m'\u001b[39m\u001b[38;5;124manthropic.claude-3-5-sonnet-20241022-v2:0\u001b[39m\u001b[38;5;124m'\u001b[39m\n\u001b[1;32m      5\u001b[0m     \u001b[38;5;66;03m# send the messages to the model\u001b[39;00m\n",
      "\u001b[0;31mNameError\u001b[0m: name 'boto3' is not defined"
     ]
    }
   ],
   "source": [
    "messages = [{\n",
    "    \"role\": \"user\",\n",
    "    \"content\": [{\"text\": \"Write a sonnet about the beauty of nature.\"}]\n",
    "}]\n",
    "\n",
    "get_model_response(messages)"
   ]
  },
  {
   "cell_type": "markdown",
   "metadata": {},
   "source": [
    "One-Shot Prompting"
   ]
  },
  {
   "cell_type": "code",
   "execution_count": null,
   "metadata": {},
   "outputs": [],
   "source": [
    "messages = [{\n",
    "    \"role\": \"user\",\n",
    "    \"content\": [{\"text\": \"Write a sonnet about the beauty of nature.\"}]\n",
    "},\n",
    "{\n",
    "    \"role\": \"assistant\",\n",
    "    \"content\": [{\"text\": \"Nature's beauty, a wondrous sight to behold,\\nIn every leaf and petal, stories unfold.\\nThe sun-kissed mountains, majestic and grand,\\nWhisper secrets of time, carved by nature's hand.\\n\\nRivers dance gracefully, a shimmering stream,\\nReflecting the sky's hues, a painter's dream.\\nFields of wildflowers, a vibrant array,\\nA symphony of colors that brighten the day.\\n\\nThe gentle rustle of leaves in the breeze,\\nA lullaby sung by the towering trees.\\nBirds take flight, painting arcs in the air,\\nNature's canvas, a masterpiece rare.\\n\\nSo let us cherish this beauty so pure,\\nFor in nature's embrace, our hearts find their cure.\"}]\n",
    "}]\n",
    "\n",
    "get_model_response(messages)\n",
    "# This prepends the assistant's content to the model's output"
   ]
  },
  {
   "cell_type": "markdown",
   "metadata": {},
   "source": [
    "Few-Shot Prompting for sentiment analysis"
   ]
  },
  {
   "cell_type": "code",
   "execution_count": null,
   "metadata": {},
   "outputs": [],
   "source": [
    "messages = [\n",
    "    {\"role\": \"user\", \"content\": [{\"text\": \"Unpopular opinion: Pickles are disgusting. Don't @ me.\"}]},\n",
    "    {\"role\": \"assistant\", \"content\": [{\"text\": \"NEGATIVE\"}]},\n",
    "    {\"role\": \"user\", \"content\": [{\"text\": \"I think my love for pickles might be getting out of hand. I think I need to go to pickle lovers anonymous.\"}]},\n",
    "    {\"role\": \"assistant\", \"content\": [{\"text\": \"POSITIVE\"}]},\n",
    "    {\"role\": \"user\", \"content\": [{\"text\": \"Seriously everyone, pickles are disgusting. I don't understand how anyone can eat them.\"}]},\n",
    "    {\"role\": \"assistant\", \"content\": [{\"text\": \"NEGATIVE\"}]},\n",
    "    {\"role\": \"user\", \"content\": [{\"text\": \"Just had the best pickle of my life. I can't stop thinking about it.\"}]},\n",
    "]\n",
    "get_model_response(messages)\n",
    "# returns 'POSITIVE'"
   ]
  }
 ],
 "metadata": {
  "kernelspec": {
   "display_name": "Python 3",
   "language": "python",
   "name": "python3"
  },
  "language_info": {
   "codemirror_mode": {
    "name": "ipython",
    "version": 3
   },
   "file_extension": ".py",
   "mimetype": "text/x-python",
   "name": "python",
   "nbconvert_exporter": "python",
   "pygments_lexer": "ipython3",
   "version": "3.12.1"
  }
 },
 "nbformat": 4,
 "nbformat_minor": 2
}
